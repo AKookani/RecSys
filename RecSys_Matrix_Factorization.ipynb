{
  "nbformat": 4,
  "nbformat_minor": 0,
  "metadata": {
    "colab": {
      "provenance": [],
      "authorship_tag": "ABX9TyNxBVCrRwVUphvLXk6f+pIA",
      "include_colab_link": true
    },
    "kernelspec": {
      "name": "python3",
      "display_name": "Python 3"
    },
    "language_info": {
      "name": "python"
    }
  },
  "cells": [
    {
      "cell_type": "markdown",
      "metadata": {
        "id": "view-in-github",
        "colab_type": "text"
      },
      "source": [
        "<a href=\"https://colab.research.google.com/github/AKookani/Collaborative-Filtering-for-Movie-Recommendations/blob/main/RecSys_Matrix_Factorization.ipynb\" target=\"_parent\"><img src=\"https://colab.research.google.com/assets/colab-badge.svg\" alt=\"Open In Colab\"/></a>"
      ]
    },
    {
      "cell_type": "code",
      "execution_count": 9,
      "metadata": {
        "colab": {
          "base_uri": "https://localhost:8080/"
        },
        "id": "V70xd0olMun_",
        "outputId": "c85d3320-de5d-495f-ea6e-4c5ea0b6ac76"
      },
      "outputs": [
        {
          "output_type": "execute_result",
          "data": {
            "text/plain": [
              "(array([[5, 3, 0, 1, 4],\n",
              "        [4, 0, 0, 1, 3],\n",
              "        [1, 1, 0, 5, 0],\n",
              "        [0, 0, 4, 4, 0]]),\n",
              " (4, 5))"
            ]
          },
          "metadata": {},
          "execution_count": 9
        }
      ],
      "source": [
        "import numpy as np\n",
        "\n",
        "# Example user-item matrix (4 users, 5 items)\n",
        "# Rows: Users, Columns: Items, Values: Ratings (0 means no rating)\n",
        "R = np.array([\n",
        "    [5, 3, 0, 1, 4],\n",
        "    [4, 0, 0, 1, 3],\n",
        "    [1, 1, 0, 5, 0],\n",
        "    [0, 0, 4, 4, 0]\n",
        "])\n",
        "R, R.shape"
      ]
    },
    {
      "cell_type": "code",
      "source": [
        "# Hyperparameters\n",
        "k = 2  # Number of latent factors\n",
        "learning_rate = 0.01\n",
        "lambda_reg = 0.1  # Regularization strength\n",
        "epochs = 1000"
      ],
      "metadata": {
        "id": "vtS__TY2NCoO"
      },
      "execution_count": 10,
      "outputs": []
    },
    {
      "cell_type": "code",
      "source": [
        "# Initialize user and item latent factor matrices\n",
        "n_users, n_items = R.shape\n",
        "U = np.random.rand(n_users, k)  # User latent factors\n",
        "I = np.random.rand(n_items, k)  # Item latent factors\n",
        "\n",
        "U.shape, I.shape"
      ],
      "metadata": {
        "colab": {
          "base_uri": "https://localhost:8080/"
        },
        "id": "15ONJGfYNK5L",
        "outputId": "e0454852-11bd-4b8f-cfeb-ab081338b908"
      },
      "execution_count": 11,
      "outputs": [
        {
          "output_type": "execute_result",
          "data": {
            "text/plain": [
              "((4, 2), (5, 2))"
            ]
          },
          "metadata": {},
          "execution_count": 11
        }
      ]
    },
    {
      "cell_type": "code",
      "source": [
        "np.dot(U, I.T)"
      ],
      "metadata": {
        "colab": {
          "base_uri": "https://localhost:8080/"
        },
        "id": "14rSapVjV7Lh",
        "outputId": "9079fa4b-b5a2-403d-bdd8-679e00b919c5"
      },
      "execution_count": 13,
      "outputs": [
        {
          "output_type": "execute_result",
          "data": {
            "text/plain": [
              "array([[0.65161277, 0.77778439, 0.46510408, 0.81440823, 0.35708815],\n",
              "       [0.21889228, 0.17150458, 0.08722006, 0.28389591, 0.08168201],\n",
              "       [0.87051592, 1.0849524 , 0.65662445, 1.0827285 , 0.49660802],\n",
              "       [0.96809084, 1.14592464, 0.68360364, 1.21105874, 0.52642006]])"
            ]
          },
          "metadata": {},
          "execution_count": 13
        }
      ]
    },
    {
      "cell_type": "code",
      "source": [
        "# Gradient Descent\n",
        "for epoch in range(epochs):\n",
        "    for u in range(n_users):\n",
        "        for i in range(n_items):\n",
        "            if R[u, i] > 0:  # Only consider observed ratings\n",
        "                # Compute prediction error\n",
        "                prediction = np.dot(U[u], I[i])\n",
        "                error = R[u, i] - prediction\n",
        "\n",
        "                # Update user and item latent factors\n",
        "                U[u] += learning_rate * (error * I[i] - lambda_reg * U[u])\n",
        "                I[i] += learning_rate * (error * U[u] - lambda_reg * I[i])"
      ],
      "metadata": {
        "id": "PFn8QO8ON6KE"
      },
      "execution_count": 14,
      "outputs": []
    },
    {
      "cell_type": "code",
      "source": [
        "# Reconstruct the predicted ratings matrix\n",
        "predicted_R = np.dot(U, I.T)\n",
        "print(\"Predicted Ratings Matrix:\")\n",
        "print(predicted_R)"
      ],
      "metadata": {
        "colab": {
          "base_uri": "https://localhost:8080/"
        },
        "id": "zMHIGAfLUaH4",
        "outputId": "f7dd0dde-6f72-4e38-f4a2-e4e6cbf599b1"
      },
      "execution_count": 15,
      "outputs": [
        {
          "output_type": "stream",
          "name": "stdout",
          "text": [
            "Predicted Ratings Matrix:\n",
            "[[4.84186062 2.87148576 3.02416361 1.02838053 3.82412558]\n",
            " [3.77947255 2.25751767 2.48275682 0.98927877 3.00066736]\n",
            " [1.011856   0.9873053  3.5723697  4.70544934 1.17520807]\n",
            " [2.7410597  1.91263442 3.8916669  3.91091926 2.44365204]]\n"
          ]
        }
      ]
    },
    {
      "cell_type": "code",
      "source": [
        "import numpy as np\n",
        "import matplotlib.pyplot as plt\n",
        "\n",
        "# Example user-item matrix (4 users, 5 items)\n",
        "R = np.array([\n",
        "    [5, 3, 0, 1, 4],\n",
        "    [4, 0, 0, 1, 3],\n",
        "    [1, 1, 0, 5, 0],\n",
        "    [0, 0, 4, 4, 0]\n",
        "])\n",
        "\n",
        "# Hyperparameters\n",
        "k = 2  # Number of latent factors\n",
        "learning_rate = 0.01\n",
        "lambda_reg = 0.1  # Regularization strength\n",
        "epochs = 1000\n",
        "\n",
        "# Initialize user and item latent factor matrices\n",
        "n_users, n_items = R.shape\n",
        "U = np.random.rand(n_users, k)  # User latent factors\n",
        "I = np.random.rand(n_items, k)  # Item latent factors\n",
        "\n",
        "# Track error over epochs\n",
        "errors = []\n",
        "\n",
        "# Gradient Descent\n",
        "for epoch in range(epochs):\n",
        "    total_error = 0\n",
        "    count = 0\n",
        "    for u in range(n_users):\n",
        "        for i in range(n_items):\n",
        "            if R[u, i] > 0:  # Only consider observed ratings\n",
        "                # Compute prediction error\n",
        "                prediction = np.dot(U[u], I[i])\n",
        "                error = R[u, i] - prediction\n",
        "                total_error += error ** 2\n",
        "                count += 1\n",
        "\n",
        "                # Update user and item latent factors\n",
        "                U[u] += learning_rate * (error * I[i] - lambda_reg * U[u])\n",
        "                I[i] += learning_rate * (error * U[u] - lambda_reg * I[i])\n",
        "\n",
        "    # Compute RMSE\n",
        "    rmse = np.sqrt(total_error / count)\n",
        "    errors.append(rmse)\n",
        "\n",
        "    # Print error every 100 epochs\n",
        "    if (epoch + 1) % 100 == 0:\n",
        "        print(f\"Epoch {epoch + 1}, RMSE: {rmse:.4f}\")\n",
        "\n",
        "# Reconstruct the predicted ratings matrix\n",
        "predicted_R = np.dot(U, I.T)\n",
        "print(\"Predicted Ratings Matrix:\")\n",
        "print(predicted_R)\n",
        "\n",
        "# Plot error change\n",
        "plt.plot(errors)\n",
        "plt.xlabel(\"Epochs\")\n",
        "plt.ylabel(\"RMSE\")\n",
        "plt.title(\"Error Change Over Time\")\n",
        "plt.show()"
      ],
      "metadata": {
        "colab": {
          "base_uri": "https://localhost:8080/",
          "height": 732
        },
        "id": "5t89sw00Vzcp",
        "outputId": "bc639824-6d76-4466-ba5d-e0d646532ab6"
      },
      "execution_count": 16,
      "outputs": [
        {
          "output_type": "stream",
          "name": "stdout",
          "text": [
            "Epoch 100, RMSE: 0.1523\n",
            "Epoch 200, RMSE: 0.1442\n",
            "Epoch 300, RMSE: 0.1432\n",
            "Epoch 400, RMSE: 0.1425\n",
            "Epoch 500, RMSE: 0.1420\n",
            "Epoch 600, RMSE: 0.1416\n",
            "Epoch 700, RMSE: 0.1413\n",
            "Epoch 800, RMSE: 0.1411\n",
            "Epoch 900, RMSE: 0.1409\n",
            "Epoch 1000, RMSE: 0.1408\n",
            "Predicted Ratings Matrix:\n",
            "[[4.84048608 2.87102496 3.37461612 1.02580711 3.82673738]\n",
            " [3.78138024 2.25935966 2.74579898 0.9928513  2.99732318]\n",
            " [1.01169763 0.98764962 3.27571649 4.70726312 0.98474336]\n",
            " [2.88036686 1.99272137 3.89350232 3.9059741  2.4127739 ]]\n"
          ]
        },
        {
          "output_type": "display_data",
          "data": {
            "text/plain": [
              "<Figure size 640x480 with 1 Axes>"
            ],
            "image/png": "[encoded data removed]"
          },
          "metadata": {}
        }
      ]
    },
    {
      "cell_type": "code",
      "source": [],
      "metadata": {
        "id": "at4ObvEmXlNJ"
      },
      "execution_count": null,
      "outputs": []
    }
  ]
}